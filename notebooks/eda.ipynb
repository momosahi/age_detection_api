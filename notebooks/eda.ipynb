{
 "cells": [
  {
   "cell_type": "code",
   "execution_count": 1,
   "metadata": {},
   "outputs": [],
   "source": [
    "import pandas as pd\n",
    "import matplotlib.pyplot as plt"
   ]
  },
  {
   "cell_type": "code",
   "execution_count": 2,
   "metadata": {},
   "outputs": [],
   "source": [
    "df = pd.read_csv(\"data/installations-production-elec-gaz.csv\", sep=\";\")"
   ]
  },
  {
   "cell_type": "code",
   "execution_count": 3,
   "metadata": {},
   "outputs": [
    {
     "data": {
      "text/html": [
       "<div>\n",
       "<style scoped>\n",
       "    .dataframe tbody tr th:only-of-type {\n",
       "        vertical-align: middle;\n",
       "    }\n",
       "\n",
       "    .dataframe tbody tr th {\n",
       "        vertical-align: top;\n",
       "    }\n",
       "\n",
       "    .dataframe thead th {\n",
       "        text-align: right;\n",
       "    }\n",
       "</style>\n",
       "<table border=\"1\" class=\"dataframe\">\n",
       "  <thead>\n",
       "    <tr style=\"text-align: right;\">\n",
       "      <th></th>\n",
       "      <th>1_f_commune_pdl</th>\n",
       "      <th>count</th>\n",
       "      <th>date_des_donnees</th>\n",
       "      <th>code_epci</th>\n",
       "      <th>s_3_prod_i_regime_d_exploitation</th>\n",
       "      <th>s_3_prod_d_filiere</th>\n",
       "      <th>coordonnees</th>\n",
       "      <th>1_f_code_insee_pdl</th>\n",
       "    </tr>\n",
       "  </thead>\n",
       "  <tbody>\n",
       "    <tr>\n",
       "      <th>0</th>\n",
       "      <td>Mazan</td>\n",
       "      <td>1</td>\n",
       "      <td>2020-03</td>\n",
       "      <td>248400053</td>\n",
       "      <td>NaN</td>\n",
       "      <td>Éolien</td>\n",
       "      <td>44.0545320098,5.13048600927</td>\n",
       "      <td>84072</td>\n",
       "    </tr>\n",
       "    <tr>\n",
       "      <th>1</th>\n",
       "      <td>Mazangé</td>\n",
       "      <td>14</td>\n",
       "      <td>2020-03</td>\n",
       "      <td>200072072</td>\n",
       "      <td>Realised</td>\n",
       "      <td>Solaire</td>\n",
       "      <td>47.8402255423,0.948834044312</td>\n",
       "      <td>41131</td>\n",
       "    </tr>\n",
       "    <tr>\n",
       "      <th>2</th>\n",
       "      <td>Méneslies</td>\n",
       "      <td>2</td>\n",
       "      <td>2018-12</td>\n",
       "      <td>200070944</td>\n",
       "      <td>NaN</td>\n",
       "      <td>Solaire</td>\n",
       "      <td>50.0580071022,1.49366891391</td>\n",
       "      <td>80527</td>\n",
       "    </tr>\n",
       "    <tr>\n",
       "      <th>3</th>\n",
       "      <td>Mazaugues</td>\n",
       "      <td>26</td>\n",
       "      <td>2020-03</td>\n",
       "      <td>200068104</td>\n",
       "      <td>Realised</td>\n",
       "      <td>Solaire</td>\n",
       "      <td>43.3448761166,5.89589582308</td>\n",
       "      <td>83076</td>\n",
       "    </tr>\n",
       "    <tr>\n",
       "      <th>4</th>\n",
       "      <td>Ménesplet</td>\n",
       "      <td>24</td>\n",
       "      <td>2018-12</td>\n",
       "      <td>200040384</td>\n",
       "      <td>Realised</td>\n",
       "      <td>Solaire</td>\n",
       "      <td>45.0036275997,0.10542960424</td>\n",
       "      <td>24264</td>\n",
       "    </tr>\n",
       "  </tbody>\n",
       "</table>\n",
       "</div>"
      ],
      "text/plain": [
       "  1_f_commune_pdl  count date_des_donnees  code_epci  \\\n",
       "0           Mazan      1          2020-03  248400053   \n",
       "1         Mazangé     14          2020-03  200072072   \n",
       "2       Méneslies      2          2018-12  200070944   \n",
       "3       Mazaugues     26          2020-03  200068104   \n",
       "4       Ménesplet     24          2018-12  200040384   \n",
       "\n",
       "  s_3_prod_i_regime_d_exploitation s_3_prod_d_filiere  \\\n",
       "0                              NaN             Éolien   \n",
       "1                         Realised            Solaire   \n",
       "2                              NaN            Solaire   \n",
       "3                         Realised            Solaire   \n",
       "4                         Realised            Solaire   \n",
       "\n",
       "                    coordonnees  1_f_code_insee_pdl  \n",
       "0   44.0545320098,5.13048600927               84072  \n",
       "1  47.8402255423,0.948834044312               41131  \n",
       "2   50.0580071022,1.49366891391               80527  \n",
       "3   43.3448761166,5.89589582308               83076  \n",
       "4   45.0036275997,0.10542960424               24264  "
      ]
     },
     "execution_count": 3,
     "metadata": {},
     "output_type": "execute_result"
    }
   ],
   "source": [
    "df.head()"
   ]
  },
  {
   "cell_type": "code",
   "execution_count": null,
   "metadata": {},
   "outputs": [],
   "source": []
  }
 ],
 "metadata": {
  "kernelspec": {
   "display_name": "end_to_end_ml_project",
   "language": "python",
   "name": "python3"
  },
  "language_info": {
   "codemirror_mode": {
    "name": "ipython",
    "version": 3
   },
   "file_extension": ".py",
   "mimetype": "text/x-python",
   "name": "python",
   "nbconvert_exporter": "python",
   "pygments_lexer": "ipython3",
   "version": "3.11.5"
  }
 },
 "nbformat": 4,
 "nbformat_minor": 2
}
